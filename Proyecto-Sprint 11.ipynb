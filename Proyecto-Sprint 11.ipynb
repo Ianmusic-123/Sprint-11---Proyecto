{
 "cells": [
  {
   "cell_type": "markdown",
   "metadata": {},
   "source": [
    "¡Hola,Ian!\n",
    "\n",
    "Mi nombre es Tonatiuh Cruz. Me complace revisar tu proyecto hoy.\n",
    "\n",
    "Al identificar cualquier error inicialmente, simplemente los destacaré. Te animo a localizar y abordar los problemas de forma independiente como parte de tu preparación para un rol como data-analyst. En un entorno profesional, tu líder de equipo seguiría un enfoque similar. Si encuentras la tarea desafiante, proporcionaré una pista más específica en la próxima iteración.\n",
    "\n",
    "Encontrarás mis comentarios a continuación - **por favor no los muevas, modifiques o elimines**.\n",
    "\n",
    "Puedes encontrar mis comentarios en cajas verdes, amarillas o rojas como esta:\n",
    "\n",
    "<div class=\"alert alert-block alert-success\">\n",
    "<b>Comentario del revisor</b> <a class=\"tocSkip\"></a>\n",
    "\n",
    "Éxito. Todo está hecho correctamente.\n",
    "</div>\n",
    "\n",
    "<div class=\"alert alert-block alert-warning\">\n",
    "<b>Comentario del revisor</b> <a class=\"tocSkip\"></a>\n",
    "\n",
    "Observaciones. Algunas recomendaciones.\n",
    "</div>\n",
    "\n",
    "<div class=\"alert alert-block alert-danger\">\n",
    "<b>Comentario del revisor</b> <a class=\"tocSkip\"></a>\n",
    "\n",
    "Necesita corrección. El bloque requiere algunas correcciones. El trabajo no puede ser aceptado con comentarios en rojo.\n",
    "</div>\n",
    "\n",
    "Puedes responderme utilizando esto:\n",
    "\n",
    "<div class=\"alert alert-block alert-info\">"
   ]
  },
  {
   "cell_type": "markdown",
   "metadata": {},
   "source": [
    "<div class=\"alert alert-block alert-success\">\n",
    "<b>Comentario del revisor</b> <a class=\"tocSkip\"></a>\n",
    "\n",
    "Hola Ian, excelente trabajo! Tu código es correcto y ordenado. Resumes de muy buena forma los resultados y además tuviste decisiones muy acertadas durante el proyecto, como el filtrado de datos. Solo te dejé una recomendación que puedes aplicar en futuros proyectos, la cual es un uso más frecuente de visualizaciones para explicar tus resultados más importantes, aquellos que consideres que son de suma importancia mostrar a tus jefes o líderes de proyecto. Continúa esforzándote, saludos!\n",
    "</div>"
   ]
  },
  {
   "cell_type": "markdown",
   "metadata": {},
   "source": [
    "# Importar liberias"
   ]
  },
  {
   "cell_type": "code",
   "execution_count": 2,
   "metadata": {},
   "outputs": [],
   "source": [
    "import pandas as pd\n",
    "import matplotlib.pyplot as plt\n",
    "import seaborn as sns\n",
    "from statsmodels.stats.proportion import proportions_ztest\n",
    "import numpy as np"
   ]
  },
  {
   "cell_type": "markdown",
   "metadata": {},
   "source": [
    "# Importar Dataset"
   ]
  },
  {
   "cell_type": "code",
   "execution_count": 3,
   "metadata": {},
   "outputs": [],
   "source": [
    "logs = pd.read_csv(\"/datasets/logs_exp_us.csv\", sep=\"\\t\")"
   ]
  },
  {
   "cell_type": "code",
   "execution_count": 4,
   "metadata": {},
   "outputs": [
    {
     "data": {
      "text/html": [
       "<div>\n",
       "<style scoped>\n",
       "    .dataframe tbody tr th:only-of-type {\n",
       "        vertical-align: middle;\n",
       "    }\n",
       "\n",
       "    .dataframe tbody tr th {\n",
       "        vertical-align: top;\n",
       "    }\n",
       "\n",
       "    .dataframe thead th {\n",
       "        text-align: right;\n",
       "    }\n",
       "</style>\n",
       "<table border=\"1\" class=\"dataframe\">\n",
       "  <thead>\n",
       "    <tr style=\"text-align: right;\">\n",
       "      <th></th>\n",
       "      <th>EventName</th>\n",
       "      <th>DeviceIDHash</th>\n",
       "      <th>EventTimestamp</th>\n",
       "      <th>ExpId</th>\n",
       "    </tr>\n",
       "  </thead>\n",
       "  <tbody>\n",
       "    <tr>\n",
       "      <th>0</th>\n",
       "      <td>MainScreenAppear</td>\n",
       "      <td>4575588528974610257</td>\n",
       "      <td>1564029816</td>\n",
       "      <td>246</td>\n",
       "    </tr>\n",
       "    <tr>\n",
       "      <th>1</th>\n",
       "      <td>MainScreenAppear</td>\n",
       "      <td>7416695313311560658</td>\n",
       "      <td>1564053102</td>\n",
       "      <td>246</td>\n",
       "    </tr>\n",
       "    <tr>\n",
       "      <th>2</th>\n",
       "      <td>PaymentScreenSuccessful</td>\n",
       "      <td>3518123091307005509</td>\n",
       "      <td>1564054127</td>\n",
       "      <td>248</td>\n",
       "    </tr>\n",
       "    <tr>\n",
       "      <th>3</th>\n",
       "      <td>CartScreenAppear</td>\n",
       "      <td>3518123091307005509</td>\n",
       "      <td>1564054127</td>\n",
       "      <td>248</td>\n",
       "    </tr>\n",
       "    <tr>\n",
       "      <th>4</th>\n",
       "      <td>PaymentScreenSuccessful</td>\n",
       "      <td>6217807653094995999</td>\n",
       "      <td>1564055322</td>\n",
       "      <td>248</td>\n",
       "    </tr>\n",
       "    <tr>\n",
       "      <th>...</th>\n",
       "      <td>...</td>\n",
       "      <td>...</td>\n",
       "      <td>...</td>\n",
       "      <td>...</td>\n",
       "    </tr>\n",
       "    <tr>\n",
       "      <th>244121</th>\n",
       "      <td>MainScreenAppear</td>\n",
       "      <td>4599628364049201812</td>\n",
       "      <td>1565212345</td>\n",
       "      <td>247</td>\n",
       "    </tr>\n",
       "    <tr>\n",
       "      <th>244122</th>\n",
       "      <td>MainScreenAppear</td>\n",
       "      <td>5849806612437486590</td>\n",
       "      <td>1565212439</td>\n",
       "      <td>246</td>\n",
       "    </tr>\n",
       "    <tr>\n",
       "      <th>244123</th>\n",
       "      <td>MainScreenAppear</td>\n",
       "      <td>5746969938801999050</td>\n",
       "      <td>1565212483</td>\n",
       "      <td>246</td>\n",
       "    </tr>\n",
       "    <tr>\n",
       "      <th>244124</th>\n",
       "      <td>MainScreenAppear</td>\n",
       "      <td>5746969938801999050</td>\n",
       "      <td>1565212498</td>\n",
       "      <td>246</td>\n",
       "    </tr>\n",
       "    <tr>\n",
       "      <th>244125</th>\n",
       "      <td>OffersScreenAppear</td>\n",
       "      <td>5746969938801999050</td>\n",
       "      <td>1565212517</td>\n",
       "      <td>246</td>\n",
       "    </tr>\n",
       "  </tbody>\n",
       "</table>\n",
       "<p>244126 rows × 4 columns</p>\n",
       "</div>"
      ],
      "text/plain": [
       "                      EventName         DeviceIDHash  EventTimestamp  ExpId\n",
       "0              MainScreenAppear  4575588528974610257      1564029816    246\n",
       "1              MainScreenAppear  7416695313311560658      1564053102    246\n",
       "2       PaymentScreenSuccessful  3518123091307005509      1564054127    248\n",
       "3              CartScreenAppear  3518123091307005509      1564054127    248\n",
       "4       PaymentScreenSuccessful  6217807653094995999      1564055322    248\n",
       "...                         ...                  ...             ...    ...\n",
       "244121         MainScreenAppear  4599628364049201812      1565212345    247\n",
       "244122         MainScreenAppear  5849806612437486590      1565212439    246\n",
       "244123         MainScreenAppear  5746969938801999050      1565212483    246\n",
       "244124         MainScreenAppear  5746969938801999050      1565212498    246\n",
       "244125       OffersScreenAppear  5746969938801999050      1565212517    246\n",
       "\n",
       "[244126 rows x 4 columns]"
      ]
     },
     "execution_count": 4,
     "metadata": {},
     "output_type": "execute_result"
    }
   ],
   "source": [
    "logs"
   ]
  },
  {
   "cell_type": "markdown",
   "metadata": {},
   "source": [
    "# Modificación en columnas\n",
    "    -cambio a minusculas\n",
    "    -cambio de nombres"
   ]
  },
  {
   "cell_type": "code",
   "execution_count": 5,
   "metadata": {},
   "outputs": [
    {
     "data": {
      "text/html": [
       "<div>\n",
       "<style scoped>\n",
       "    .dataframe tbody tr th:only-of-type {\n",
       "        vertical-align: middle;\n",
       "    }\n",
       "\n",
       "    .dataframe tbody tr th {\n",
       "        vertical-align: top;\n",
       "    }\n",
       "\n",
       "    .dataframe thead th {\n",
       "        text-align: right;\n",
       "    }\n",
       "</style>\n",
       "<table border=\"1\" class=\"dataframe\">\n",
       "  <thead>\n",
       "    <tr style=\"text-align: right;\">\n",
       "      <th></th>\n",
       "      <th>eventname</th>\n",
       "      <th>deviceidhash</th>\n",
       "      <th>eventtimestamp</th>\n",
       "      <th>expid</th>\n",
       "    </tr>\n",
       "  </thead>\n",
       "  <tbody>\n",
       "    <tr>\n",
       "      <th>0</th>\n",
       "      <td>MainScreenAppear</td>\n",
       "      <td>4575588528974610257</td>\n",
       "      <td>1564029816</td>\n",
       "      <td>246</td>\n",
       "    </tr>\n",
       "    <tr>\n",
       "      <th>1</th>\n",
       "      <td>MainScreenAppear</td>\n",
       "      <td>7416695313311560658</td>\n",
       "      <td>1564053102</td>\n",
       "      <td>246</td>\n",
       "    </tr>\n",
       "    <tr>\n",
       "      <th>2</th>\n",
       "      <td>PaymentScreenSuccessful</td>\n",
       "      <td>3518123091307005509</td>\n",
       "      <td>1564054127</td>\n",
       "      <td>248</td>\n",
       "    </tr>\n",
       "    <tr>\n",
       "      <th>3</th>\n",
       "      <td>CartScreenAppear</td>\n",
       "      <td>3518123091307005509</td>\n",
       "      <td>1564054127</td>\n",
       "      <td>248</td>\n",
       "    </tr>\n",
       "    <tr>\n",
       "      <th>4</th>\n",
       "      <td>PaymentScreenSuccessful</td>\n",
       "      <td>6217807653094995999</td>\n",
       "      <td>1564055322</td>\n",
       "      <td>248</td>\n",
       "    </tr>\n",
       "  </tbody>\n",
       "</table>\n",
       "</div>"
      ],
      "text/plain": [
       "                 eventname         deviceidhash  eventtimestamp  expid\n",
       "0         MainScreenAppear  4575588528974610257      1564029816    246\n",
       "1         MainScreenAppear  7416695313311560658      1564053102    246\n",
       "2  PaymentScreenSuccessful  3518123091307005509      1564054127    248\n",
       "3         CartScreenAppear  3518123091307005509      1564054127    248\n",
       "4  PaymentScreenSuccessful  6217807653094995999      1564055322    248"
      ]
     },
     "execution_count": 5,
     "metadata": {},
     "output_type": "execute_result"
    }
   ],
   "source": [
    "logs.columns = logs.columns.str.lower()\n",
    "logs.head()"
   ]
  },
  {
   "cell_type": "code",
   "execution_count": 6,
   "metadata": {},
   "outputs": [
    {
     "data": {
      "text/html": [
       "<div>\n",
       "<style scoped>\n",
       "    .dataframe tbody tr th:only-of-type {\n",
       "        vertical-align: middle;\n",
       "    }\n",
       "\n",
       "    .dataframe tbody tr th {\n",
       "        vertical-align: top;\n",
       "    }\n",
       "\n",
       "    .dataframe thead th {\n",
       "        text-align: right;\n",
       "    }\n",
       "</style>\n",
       "<table border=\"1\" class=\"dataframe\">\n",
       "  <thead>\n",
       "    <tr style=\"text-align: right;\">\n",
       "      <th></th>\n",
       "      <th>event_name</th>\n",
       "      <th>devide_id_hash</th>\n",
       "      <th>event_time_stamp</th>\n",
       "      <th>exp_id</th>\n",
       "    </tr>\n",
       "  </thead>\n",
       "  <tbody>\n",
       "    <tr>\n",
       "      <th>0</th>\n",
       "      <td>MainScreenAppear</td>\n",
       "      <td>4575588528974610257</td>\n",
       "      <td>1564029816</td>\n",
       "      <td>246</td>\n",
       "    </tr>\n",
       "    <tr>\n",
       "      <th>1</th>\n",
       "      <td>MainScreenAppear</td>\n",
       "      <td>7416695313311560658</td>\n",
       "      <td>1564053102</td>\n",
       "      <td>246</td>\n",
       "    </tr>\n",
       "    <tr>\n",
       "      <th>2</th>\n",
       "      <td>PaymentScreenSuccessful</td>\n",
       "      <td>3518123091307005509</td>\n",
       "      <td>1564054127</td>\n",
       "      <td>248</td>\n",
       "    </tr>\n",
       "    <tr>\n",
       "      <th>3</th>\n",
       "      <td>CartScreenAppear</td>\n",
       "      <td>3518123091307005509</td>\n",
       "      <td>1564054127</td>\n",
       "      <td>248</td>\n",
       "    </tr>\n",
       "    <tr>\n",
       "      <th>4</th>\n",
       "      <td>PaymentScreenSuccessful</td>\n",
       "      <td>6217807653094995999</td>\n",
       "      <td>1564055322</td>\n",
       "      <td>248</td>\n",
       "    </tr>\n",
       "  </tbody>\n",
       "</table>\n",
       "</div>"
      ],
      "text/plain": [
       "                event_name       devide_id_hash  event_time_stamp  exp_id\n",
       "0         MainScreenAppear  4575588528974610257        1564029816     246\n",
       "1         MainScreenAppear  7416695313311560658        1564053102     246\n",
       "2  PaymentScreenSuccessful  3518123091307005509        1564054127     248\n",
       "3         CartScreenAppear  3518123091307005509        1564054127     248\n",
       "4  PaymentScreenSuccessful  6217807653094995999        1564055322     248"
      ]
     },
     "execution_count": 6,
     "metadata": {},
     "output_type": "execute_result"
    }
   ],
   "source": [
    "logs = logs.rename(columns={\"eventname\":\"event_name\",\"deviceidhash\":\"devide_id_hash\",\"eventtimestamp\":\"event_time_stamp\",\"expid\":\"exp_id\"})\n",
    "logs.head()"
   ]
  },
  {
   "cell_type": "markdown",
   "metadata": {},
   "source": [
    "# Modificación en datos\n",
    "    -revisión de datos nulos\n",
    "    -revisión de datos duplicados\n",
    "    -cambio de tipos de datos\n",
    "    -datos a minusculas\n",
    "    -Eliminación de datos duplicados"
   ]
  },
  {
   "cell_type": "code",
   "execution_count": 7,
   "metadata": {},
   "outputs": [
    {
     "name": "stdout",
     "output_type": "stream",
     "text": [
      "<class 'pandas.core.frame.DataFrame'>\n",
      "RangeIndex: 244126 entries, 0 to 244125\n",
      "Data columns (total 4 columns):\n",
      " #   Column            Non-Null Count   Dtype \n",
      "---  ------            --------------   ----- \n",
      " 0   event_name        244126 non-null  object\n",
      " 1   devide_id_hash    244126 non-null  int64 \n",
      " 2   event_time_stamp  244126 non-null  int64 \n",
      " 3   exp_id            244126 non-null  int64 \n",
      "dtypes: int64(3), object(1)\n",
      "memory usage: 7.5+ MB\n",
      "-------------------------------------------------\n",
      "event_name          0\n",
      "devide_id_hash      0\n",
      "event_time_stamp    0\n",
      "exp_id              0\n",
      "dtype: int64\n",
      "-------------------------------------------------\n",
      "Duplicados de la sesiones: 413\n"
     ]
    }
   ],
   "source": [
    "logs.info()\n",
    "print(\"-------------------------------------------------\")\n",
    "print(logs.isna().sum())\n",
    "print(\"-------------------------------------------------\")\n",
    "duplicados_sesiones = logs.duplicated().sum()\n",
    "print(\"Duplicados de la sesiones:\",duplicados_sesiones)"
   ]
  },
  {
   "cell_type": "markdown",
   "metadata": {},
   "source": [
    "<div class=\"alert alert-block alert-success\">\n",
    "<b>Comentario del revisor</b> <a class=\"tocSkip\"></a>\n",
    "\n",
    "Muy buen trabajo cargando tanto las librerías necesarias para el proyecto como el dataset con el separador adecuado. Además, la exploración inicial usando los métodos info()  siempre son muy útiles para detectar inconsistencias en las tablas como una gran cantidad de NA's o tipos de variable ineficientes.\n",
    "</div>"
   ]
  },
  {
   "cell_type": "code",
   "execution_count": 8,
   "metadata": {},
   "outputs": [
    {
     "data": {
      "text/html": [
       "<div>\n",
       "<style scoped>\n",
       "    .dataframe tbody tr th:only-of-type {\n",
       "        vertical-align: middle;\n",
       "    }\n",
       "\n",
       "    .dataframe tbody tr th {\n",
       "        vertical-align: top;\n",
       "    }\n",
       "\n",
       "    .dataframe thead th {\n",
       "        text-align: right;\n",
       "    }\n",
       "</style>\n",
       "<table border=\"1\" class=\"dataframe\">\n",
       "  <thead>\n",
       "    <tr style=\"text-align: right;\">\n",
       "      <th></th>\n",
       "      <th>event_name</th>\n",
       "      <th>devide_id_hash</th>\n",
       "      <th>event_time_stamp</th>\n",
       "      <th>exp_id</th>\n",
       "    </tr>\n",
       "  </thead>\n",
       "  <tbody>\n",
       "    <tr>\n",
       "      <th>0</th>\n",
       "      <td>MainScreenAppear</td>\n",
       "      <td>4575588528974610257</td>\n",
       "      <td>1970-01-01 00:00:01.564029816</td>\n",
       "      <td>246</td>\n",
       "    </tr>\n",
       "    <tr>\n",
       "      <th>1</th>\n",
       "      <td>MainScreenAppear</td>\n",
       "      <td>7416695313311560658</td>\n",
       "      <td>1970-01-01 00:00:01.564053102</td>\n",
       "      <td>246</td>\n",
       "    </tr>\n",
       "    <tr>\n",
       "      <th>2</th>\n",
       "      <td>PaymentScreenSuccessful</td>\n",
       "      <td>3518123091307005509</td>\n",
       "      <td>1970-01-01 00:00:01.564054127</td>\n",
       "      <td>248</td>\n",
       "    </tr>\n",
       "    <tr>\n",
       "      <th>3</th>\n",
       "      <td>CartScreenAppear</td>\n",
       "      <td>3518123091307005509</td>\n",
       "      <td>1970-01-01 00:00:01.564054127</td>\n",
       "      <td>248</td>\n",
       "    </tr>\n",
       "    <tr>\n",
       "      <th>4</th>\n",
       "      <td>PaymentScreenSuccessful</td>\n",
       "      <td>6217807653094995999</td>\n",
       "      <td>1970-01-01 00:00:01.564055322</td>\n",
       "      <td>248</td>\n",
       "    </tr>\n",
       "  </tbody>\n",
       "</table>\n",
       "</div>"
      ],
      "text/plain": [
       "                event_name       devide_id_hash              event_time_stamp  \\\n",
       "0         MainScreenAppear  4575588528974610257 1970-01-01 00:00:01.564029816   \n",
       "1         MainScreenAppear  7416695313311560658 1970-01-01 00:00:01.564053102   \n",
       "2  PaymentScreenSuccessful  3518123091307005509 1970-01-01 00:00:01.564054127   \n",
       "3         CartScreenAppear  3518123091307005509 1970-01-01 00:00:01.564054127   \n",
       "4  PaymentScreenSuccessful  6217807653094995999 1970-01-01 00:00:01.564055322   \n",
       "\n",
       "   exp_id  \n",
       "0     246  \n",
       "1     246  \n",
       "2     248  \n",
       "3     248  \n",
       "4     248  "
      ]
     },
     "execution_count": 8,
     "metadata": {},
     "output_type": "execute_result"
    }
   ],
   "source": [
    "logs[\"event_time_stamp\"] = pd.to_datetime(logs[\"event_time_stamp\"])\n",
    "logs.head()"
   ]
  },
  {
   "cell_type": "markdown",
   "metadata": {},
   "source": [
    "<div class=\"alert alert-block alert-success\">\n",
    "<b>Comentario del revisor</b> <a class=\"tocSkip\"></a>\n",
    "\n",
    "Muy bien! Transformaste el tipo de algunas variables a uno más adecuado para su manejo, específicamente las variables de fechas, las cuales con su tipo actual tienen mucho más métodos que facilitarán el desarrollo del proyecto. \n",
    "</div>"
   ]
  },
  {
   "cell_type": "code",
   "execution_count": 9,
   "metadata": {},
   "outputs": [
    {
     "data": {
      "text/html": [
       "<div>\n",
       "<style scoped>\n",
       "    .dataframe tbody tr th:only-of-type {\n",
       "        vertical-align: middle;\n",
       "    }\n",
       "\n",
       "    .dataframe tbody tr th {\n",
       "        vertical-align: top;\n",
       "    }\n",
       "\n",
       "    .dataframe thead th {\n",
       "        text-align: right;\n",
       "    }\n",
       "</style>\n",
       "<table border=\"1\" class=\"dataframe\">\n",
       "  <thead>\n",
       "    <tr style=\"text-align: right;\">\n",
       "      <th></th>\n",
       "      <th>event_name</th>\n",
       "      <th>devide_id_hash</th>\n",
       "      <th>event_time_stamp</th>\n",
       "      <th>exp_id</th>\n",
       "    </tr>\n",
       "  </thead>\n",
       "  <tbody>\n",
       "    <tr>\n",
       "      <th>0</th>\n",
       "      <td>mainscreenappear</td>\n",
       "      <td>4575588528974610257</td>\n",
       "      <td>1970-01-01 00:00:01.564029816</td>\n",
       "      <td>246</td>\n",
       "    </tr>\n",
       "    <tr>\n",
       "      <th>1</th>\n",
       "      <td>mainscreenappear</td>\n",
       "      <td>7416695313311560658</td>\n",
       "      <td>1970-01-01 00:00:01.564053102</td>\n",
       "      <td>246</td>\n",
       "    </tr>\n",
       "    <tr>\n",
       "      <th>2</th>\n",
       "      <td>paymentscreensuccessful</td>\n",
       "      <td>3518123091307005509</td>\n",
       "      <td>1970-01-01 00:00:01.564054127</td>\n",
       "      <td>248</td>\n",
       "    </tr>\n",
       "    <tr>\n",
       "      <th>3</th>\n",
       "      <td>cartscreenappear</td>\n",
       "      <td>3518123091307005509</td>\n",
       "      <td>1970-01-01 00:00:01.564054127</td>\n",
       "      <td>248</td>\n",
       "    </tr>\n",
       "    <tr>\n",
       "      <th>4</th>\n",
       "      <td>paymentscreensuccessful</td>\n",
       "      <td>6217807653094995999</td>\n",
       "      <td>1970-01-01 00:00:01.564055322</td>\n",
       "      <td>248</td>\n",
       "    </tr>\n",
       "  </tbody>\n",
       "</table>\n",
       "</div>"
      ],
      "text/plain": [
       "                event_name       devide_id_hash              event_time_stamp  \\\n",
       "0         mainscreenappear  4575588528974610257 1970-01-01 00:00:01.564029816   \n",
       "1         mainscreenappear  7416695313311560658 1970-01-01 00:00:01.564053102   \n",
       "2  paymentscreensuccessful  3518123091307005509 1970-01-01 00:00:01.564054127   \n",
       "3         cartscreenappear  3518123091307005509 1970-01-01 00:00:01.564054127   \n",
       "4  paymentscreensuccessful  6217807653094995999 1970-01-01 00:00:01.564055322   \n",
       "\n",
       "   exp_id  \n",
       "0     246  \n",
       "1     246  \n",
       "2     248  \n",
       "3     248  \n",
       "4     248  "
      ]
     },
     "execution_count": 9,
     "metadata": {},
     "output_type": "execute_result"
    }
   ],
   "source": [
    "logs[\"event_name\"] = logs[\"event_name\"].str.lower()\n",
    "logs.head()"
   ]
  },
  {
   "cell_type": "code",
   "execution_count": 10,
   "metadata": {},
   "outputs": [
    {
     "name": "stdout",
     "output_type": "stream",
     "text": [
      "Duplicados de la sesiones: 413\n"
     ]
    }
   ],
   "source": [
    "duplicados_sesiones = logs.duplicated().sum()\n",
    "print(\"Duplicados de la sesiones:\",duplicados_sesiones)"
   ]
  },
  {
   "cell_type": "code",
   "execution_count": 11,
   "metadata": {},
   "outputs": [
    {
     "name": "stdout",
     "output_type": "stream",
     "text": [
      "Duplicados de la sesiones: 0\n"
     ]
    }
   ],
   "source": [
    "logs = logs.drop_duplicates()\n",
    "duplicados_sesiones = logs.duplicated().sum()\n",
    "print(\"Duplicados de la sesiones:\",duplicados_sesiones)"
   ]
  },
  {
   "cell_type": "code",
   "execution_count": 12,
   "metadata": {
    "scrolled": true
   },
   "outputs": [
    {
     "name": "stdout",
     "output_type": "stream",
     "text": [
      "                     event_name       devide_id_hash  \\\n",
      "0              mainscreenappear  4575588528974610257   \n",
      "1              mainscreenappear  7416695313311560658   \n",
      "2       paymentscreensuccessful  3518123091307005509   \n",
      "3              cartscreenappear  3518123091307005509   \n",
      "4       paymentscreensuccessful  6217807653094995999   \n",
      "...                         ...                  ...   \n",
      "244121         mainscreenappear  4599628364049201812   \n",
      "244122         mainscreenappear  5849806612437486590   \n",
      "244123         mainscreenappear  5746969938801999050   \n",
      "244124         mainscreenappear  5746969938801999050   \n",
      "244125       offersscreenappear  5746969938801999050   \n",
      "\n",
      "                    event_time_stamp  exp_id        date  \n",
      "0      1970-01-01 00:00:01.564029816     246  1970-01-01  \n",
      "1      1970-01-01 00:00:01.564053102     246  1970-01-01  \n",
      "2      1970-01-01 00:00:01.564054127     248  1970-01-01  \n",
      "3      1970-01-01 00:00:01.564054127     248  1970-01-01  \n",
      "4      1970-01-01 00:00:01.564055322     248  1970-01-01  \n",
      "...                              ...     ...         ...  \n",
      "244121 1970-01-01 00:00:01.565212345     247  1970-01-01  \n",
      "244122 1970-01-01 00:00:01.565212439     246  1970-01-01  \n",
      "244123 1970-01-01 00:00:01.565212483     246  1970-01-01  \n",
      "244124 1970-01-01 00:00:01.565212498     246  1970-01-01  \n",
      "244125 1970-01-01 00:00:01.565212517     246  1970-01-01  \n",
      "\n",
      "[243713 rows x 5 columns]\n"
     ]
    }
   ],
   "source": [
    "logs[\"date\"] = logs[\"event_time_stamp\"].dt.date\n",
    "print(logs)"
   ]
  },
  {
   "cell_type": "markdown",
   "metadata": {},
   "source": [
    "## Estudiar y comprobar los datos\n",
    "    -¿Cuántos eventos hay en los registros?\n",
    "    -¿Cuántos usuarios hay en los registros?\n",
    "    -¿Cuál es el promedio de eventos por usuario?\n",
    "    -¿Qué periodo de tiempo cubren los datos?, ¿Puedes tener seguridad de que tienes datos igualmente completos para todo el periodo? y ¿Qué periodo representan realmente los datos?\n",
    "    -¿Perdiste muchos eventos y usuarios al excluir los datos más antiguos?\n",
    "    -Asegúrate de tener usuarios de los tres grupos experimentales."
   ]
  },
  {
   "cell_type": "code",
   "execution_count": 13,
   "metadata": {},
   "outputs": [
    {
     "name": "stdout",
     "output_type": "stream",
     "text": [
      "La cantidad de eventos en los registros es de: 243713\n",
      "------------------------------------------------------\n",
      "\n",
      "\n",
      "La cantidad de usuarios en los registros es de 7551\n",
      "------------------------------------------------------\n",
      "\n",
      "\n",
      "El promedio de eventos por usuario es: 32.28\n",
      "------------------------------------------------------\n"
     ]
    }
   ],
   "source": [
    "num_eventos = logs.shape[0]\n",
    "print(\"La cantidad de eventos en los registros es de:\",num_eventos)\n",
    "print(\"------------------------------------------------------\")\n",
    "print(\"\\n\")\n",
    "num_usuarios = logs['devide_id_hash'].nunique()\n",
    "print(\"La cantidad de usuarios en los registros es de\",num_usuarios)\n",
    "print(\"------------------------------------------------------\")\n",
    "print(\"\\n\")\n",
    "promedio_eventos = num_eventos / num_usuarios\n",
    "print(f\"El promedio de eventos por usuario es: {promedio_eventos:.2f}\")\n",
    "print(\"------------------------------------------------------\")"
   ]
  },
  {
   "cell_type": "code",
   "execution_count": 14,
   "metadata": {},
   "outputs": [
    {
     "name": "stdout",
     "output_type": "stream",
     "text": [
      "La fecha y hora más antigua en los registros es: 1970-01-01 00:00:01.564029816\n",
      "La fecha y hora más reciente en los registros es: 1970-01-01 00:00:01.565212517\n"
     ]
    },
    {
     "data": {
      "image/png": "[encoded data removed]",
      "text/plain": [
       "<Figure size 1500x600 with 1 Axes>"
      ]
     },
     "metadata": {},
     "output_type": "display_data"
    }
   ],
   "source": [
    "fecha_minima = logs['event_time_stamp'].min()\n",
    "fecha_maxima = logs['event_time_stamp'].max()\n",
    "print(f\"La fecha y hora más antigua en los registros es: {fecha_minima}\")\n",
    "print(f\"La fecha y hora más reciente en los registros es: {fecha_maxima}\")\n",
    "sns.set_style(\"whitegrid\")\n",
    "plt.figure(figsize=(15, 6))\n",
    "logs['event_time_stamp'].hist(bins=100, color='skyblue', edgecolor='black')\n",
    "plt.title('Distribución de Eventos por Fecha y Hora')\n",
    "plt.xlabel('Fecha y Hora')\n",
    "plt.ylabel('Número de Eventos')\n",
    "plt.xticks(rotation=45)\n",
    "plt.tight_layout()\n",
    "plt.show()"
   ]
  },
  {
   "cell_type": "markdown",
   "metadata": {},
   "source": [
    "<div class=\"alert alert-block alert-success\">\n",
    "<b>Comentario del revisor</b> <a class=\"tocSkip\"></a>\n",
    "\n",
    "Excelente trabajo tanto graficando la distribución de los eventos como de tu decisión de hacer el filtrado de datos. Tal como dices, los datos antes del 1 de agosto del 2019 parecen estar incompletos, lo cual los hace muy poco útiles para el análisis de embudo e incluso podrían conducir a interpretaciones imprecisas.\n",
    "</div>"
   ]
  },
  {
   "cell_type": "markdown",
   "metadata": {},
   "source": [
    "### ¿Qué periodo de tiempo cubren los datos?, ¿Puedes tener seguridad de que tienes datos igualmente completos para todo el periodo? y ¿Qué periodo representan realmente los datos?\n",
    "    -Los datos cubren un periodo a primera vista desde mediados acercandose a los 00:01.564400.\n",
    "    -No hay datos completos para todo el periodo.\n",
    "    -Si tuvieramos que agarrar datos de forma continua e inicial, sería desde cuando empieza a ascender llegando al periodo de 00:01.564600; pero para datos más relevantes desde que el número de eventos llega aproximadamente a los 1500 o desde que llega a los 4000 aproximadamente en adelante."
   ]
  },
  {
   "cell_type": "markdown",
   "metadata": {},
   "source": [
    "### ¿Perdiste muchos eventos y usuarios al excluir los datos más antiguos?\n",
    "    -No, si se calcularan los datos excluidos habrian un aproximado de 2500-2700, pero son datos que no son tan relevantes como los más actuales en donde llegan a superar hasta más de los 8000 y llega a descender aproximadamente a los 1700, 600, etc; pero los descensos actuales si nos sirven ya que nos pueden llegar a decir algo de lo que pasa."
   ]
  },
  {
   "cell_type": "code",
   "execution_count": 15,
   "metadata": {},
   "outputs": [
    {
     "name": "stdout",
     "output_type": "stream",
     "text": [
      "Número de usuarios únicos en cada grupo experimental:\n",
      "exp_id\n",
      "246    66582\n",
      "247    65712\n",
      "248    71929\n",
      "Name: event_time_stamp, dtype: int64\n"
     ]
    }
   ],
   "source": [
    "usuarios_por_grupo = logs.groupby('exp_id')['event_time_stamp'].nunique()\n",
    "print(\"Número de usuarios únicos en cada grupo experimental:\")\n",
    "print(usuarios_por_grupo)"
   ]
  },
  {
   "cell_type": "markdown",
   "metadata": {},
   "source": [
    "## Estudiar el embudo de eventos\n",
    "    -¿Cuántos usuarios hay en cada grupo?\n",
    "    -Tenemos dos grupos de control en el test A/A, donde comprobamos nuestros mecanismos y cálculos. Observa si hay una diferencia estadísticamente significativa entre las muestras 246 y 247.\n",
    "    -Selecciona el evento más popular. En cada uno de los grupos de control, encuentra la cantidad de usuarios que realizaron esta acción. Encuentra su proporción. Comprueba si la diferencia entre los grupos es estadísticamente significativa. Repite el procedimiento para todos los demás eventos (ahorrarás tiempo si creas una función especial para esta prueba). ¿Puedes confirmar que los grupos se dividieron correctamente?\n",
    "    -Haz lo mismo para el grupo con fuentes alteradas. Compara los resultados con los de cada uno de los grupos de control para cada evento de forma aislada. Compara los resultados con los resultados combinados de los grupos de control. ¿Qué conclusiones puedes sacar del experimento?\n",
    "    -¿Qué nivel de significancia has establecido para probar las hipótesis estadísticas mencionadas anteriormente? Calcula cuántas pruebas de hipótesis estadísticas has realizado. Con un nivel de significancia estadística de 0.1, uno de cada 10 resultados podría ser falso. ¿Cuál debería ser el nivel de significancia? Si deseas cambiarlo, vuelve a ejecutar los pasos anteriores y comprueba tus conclusiones."
   ]
  },
  {
   "cell_type": "code",
   "execution_count": 16,
   "metadata": {},
   "outputs": [
    {
     "name": "stdout",
     "output_type": "stream",
     "text": [
      "Frecuencia de cada evento:\n",
      "\n",
      "mainscreenappear           119101\n",
      "offersscreenappear          46808\n",
      "cartscreenappear            42668\n",
      "paymentscreensuccessful     34118\n",
      "tutorial                     1018\n",
      "Name: event_name, dtype: int64\n"
     ]
    }
   ],
   "source": [
    "frecuencia_eventos = logs['event_name'].value_counts()\n",
    "print(\"Frecuencia de cada evento:\\n\")\n",
    "print(frecuencia_eventos)"
   ]
  },
  {
   "cell_type": "code",
   "execution_count": 17,
   "metadata": {
    "scrolled": true
   },
   "outputs": [
    {
     "name": "stdout",
     "output_type": "stream",
     "text": [
      "\n",
      "Número de usuarios únicos por evento (ordenado por cantidad de usuarios):\n",
      "\n",
      "event_name\n",
      "mainscreenappear           7439\n",
      "offersscreenappear         4613\n",
      "cartscreenappear           3749\n",
      "paymentscreensuccessful    3547\n",
      "tutorial                    847\n",
      "Name: devide_id_hash, dtype: int64\n",
      "\n",
      "Proporción de usuarios que realizaron cada acción (respecto al total):\n",
      "\n",
      "event_name\n",
      "mainscreenappear           98.52%\n",
      "offersscreenappear         61.09%\n",
      "cartscreenappear           49.65%\n",
      "paymentscreensuccessful    46.97%\n",
      "tutorial                   11.22%\n",
      "Name: devide_id_hash, dtype: object\n"
     ]
    }
   ],
   "source": [
    "usuarios_por_evento = logs.groupby('event_name')['devide_id_hash'].nunique().sort_values(ascending=False)\n",
    "total_usuarios = logs['devide_id_hash'].nunique()\n",
    "proporcion_usuarios = (usuarios_por_evento / total_usuarios) * 100\n",
    "print(\"\\nNúmero de usuarios únicos por evento (ordenado por cantidad de usuarios):\\n\")\n",
    "print(usuarios_por_evento)\n",
    "print(\"\\nProporción de usuarios que realizaron cada acción (respecto al total):\\n\")\n",
    "print(proporcion_usuarios.round(2).astype(str) + '%')"
   ]
  },
  {
   "cell_type": "code",
   "execution_count": 18,
   "metadata": {},
   "outputs": [
    {
     "name": "stdout",
     "output_type": "stream",
     "text": [
      "\n",
      "Análisis del embudo de conversión:\n",
      "\n",
      "                        usuarios proporcion_siguiente proporcion_total\n",
      "event_name                                                            \n",
      "mainscreenappear         7439.00                  nan             1.98\n",
      "offersscreenappear       4613.00                 0.62             1.23\n",
      "cartscreenappear         3749.00                 0.81             1.00\n",
      "paymentscreensuccessful  3547.00                 0.95             0.95\n",
      "tutorial                  847.00                 0.24             0.23\n"
     ]
    }
   ],
   "source": [
    "orden_eventos = ['mainscreenappear', 'offersscreenappear', 'cartscreenappear', 'paymentscreensuccessful','tutorial']\n",
    "embudo = logs.groupby('event_name')['devide_id_hash'].nunique().loc[orden_eventos]\n",
    "embudo_pasos = embudo.to_frame(name='usuarios')\n",
    "embudo_pasos['proporcion_siguiente'] = embudo_pasos['usuarios'] / embudo_pasos['usuarios'].shift(1)\n",
    "embudo_pasos['proporcion_total'] = embudo_pasos['usuarios'] / embudo_pasos.loc['cartscreenappear', 'usuarios']\n",
    "print(\"\\nAnálisis del embudo de conversión:\\n\")\n",
    "print(embudo_pasos.applymap(lambda x: f'{x:.2f}' if isinstance(x, (int, float)) else x))"
   ]
  },
  {
   "cell_type": "code",
   "execution_count": 19,
   "metadata": {},
   "outputs": [
    {
     "name": "stdout",
     "output_type": "stream",
     "text": [
      "\n",
      "Análisis del embudo de conversión (versión corregida):\n",
      "\n",
      "                        usuarios proporcion_siguiente\n",
      "event_name                                           \n",
      "mainscreenappear         7439.00                  nan\n",
      "cartscreenappear         3749.00                 0.50\n",
      "paymentscreensuccessful  3547.00                 0.95\n"
     ]
    }
   ],
   "source": [
    "nuevo_orden_eventos = ['mainscreenappear', 'cartscreenappear', 'paymentscreensuccessful']\n",
    "nuevo_embudo = logs.groupby('event_name')['devide_id_hash'].nunique().loc[nuevo_orden_eventos]\n",
    "nuevo_embudo_pasos = nuevo_embudo.to_frame(name='usuarios')\n",
    "nuevo_embudo_pasos['proporcion_siguiente'] = nuevo_embudo_pasos['usuarios'] / nuevo_embudo_pasos['usuarios'].shift(1)\n",
    "print(\"\\nAnálisis del embudo de conversión (versión corregida):\\n\")\n",
    "print(nuevo_embudo_pasos.applymap(lambda x: f'{x:.2f}' if isinstance(x, (int, float)) else x))"
   ]
  },
  {
   "cell_type": "code",
   "execution_count": 20,
   "metadata": {},
   "outputs": [
    {
     "name": "stdout",
     "output_type": "stream",
     "text": [
      "\n",
      "Porcentaje de usuarios que completan todo el viaje (desde ver el producto hasta el éxito de la compra): 47.68%\n"
     ]
    }
   ],
   "source": [
    "usuarios_primer_evento = nuevo_embudo.loc['mainscreenappear']\n",
    "usuarios_ultimo_evento = nuevo_embudo.loc['paymentscreensuccessful']\n",
    "porcentaje_completado = (usuarios_ultimo_evento / usuarios_primer_evento) * 100\n",
    "print(f\"\\nPorcentaje de usuarios que completan todo el viaje (desde ver el producto hasta el éxito de la compra): {porcentaje_completado:.2f}%\")"
   ]
  },
  {
   "cell_type": "markdown",
   "metadata": {},
   "source": [
    "<div class=\"alert alert-block alert-success\">\n",
    "<b>Comentario del revisor</b> <a class=\"tocSkip\"></a>\n",
    "\n",
    "Muy buenos cálculos! Tu análisis sobre las etapas es correcto y las cifras y porcentajes que generas son muy buenas para dar a entender cuáles son las etapas donde más se pierden usuarios y aquellas en las que mayor retención hay. Además lo complementes con una visualización para mostrar tus resultados, sobre todo el porcentaje de usuarios que avanzan a la siguiente etapa. Como bien sabes, las gráficas siempre aportan mucho a una comprensión más rápida e intuitiva de los resultados.\n",
    "</div>"
   ]
  },
  {
   "cell_type": "markdown",
   "metadata": {},
   "source": [
    "## Estudiar los resultados del experimento\n",
    "    -¿Cuántos usuarios hay en cada grupo?\n",
    "    -Tenemos dos grupos de control en el test A/A, donde comprobamos nuestros mecanismos y cálculos. Observa si hay una diferencia estadísticamente significativa entre las muestras 246 y 247.\n",
    "    -Selecciona el evento más popular. En cada uno de los grupos de control, encuentra la cantidad de usuarios que realizaron esta acción. Encuentra su proporción. Comprueba si la diferencia entre los grupos es estadísticamente significativa. Repite el procedimiento para todos los demás eventos (ahorrarás tiempo si creas una función especial para esta prueba). ¿Puedes confirmar que los grupos se dividieron correctamente?\n",
    "    -Haz lo mismo para el grupo con fuentes alteradas. Compara los resultados con los de cada uno de los grupos de control para cada evento de forma aislada. Compara los resultados con los resultados combinados de los grupos de control. ¿Qué conclusiones puedes sacar del experimento?\n",
    "    -¿Qué nivel de significancia has establecido para probar las hipótesis estadísticas mencionadas anteriormente? Calcula cuántas pruebas de hipótesis estadísticas has realizado. Con un nivel de significancia estadística de 0.1, uno de cada 10 resultados podría ser falso. ¿Cuál debería ser el nivel de significancia? Si deseas cambiarlo, vuelve a ejecutar los pasos anteriores y comprueba tus conclusiones."
   ]
  },
  {
   "cell_type": "code",
   "execution_count": 21,
   "metadata": {},
   "outputs": [
    {
     "name": "stdout",
     "output_type": "stream",
     "text": [
      "Número de usuarios únicos por grupo experimental:\n",
      "exp_id\n",
      "246    2489\n",
      "247    2520\n",
      "248    2542\n",
      "Name: devide_id_hash, dtype: int64\n"
     ]
    }
   ],
   "source": [
    "usuarios_por_grupo = logs.groupby('exp_id')['devide_id_hash'].nunique()\n",
    "print(\"Número de usuarios únicos por grupo experimental:\")\n",
    "print(usuarios_por_grupo)"
   ]
  },
  {
   "cell_type": "markdown",
   "metadata": {},
   "source": [
    "Dado que realizaremos múltiples pruebas, es prudente considerar un ajuste. Para este análisis, usaremos un \n",
    "alpha más conservador de 0.01 para reducir la probabilidad de falsos positivos."
   ]
  },
  {
   "cell_type": "code",
   "execution_count": 22,
   "metadata": {},
   "outputs": [
    {
     "name": "stdout",
     "output_type": "stream",
     "text": [
      "--- El evento más popular es: 'mainscreenappear' ---\n"
     ]
    }
   ],
   "source": [
    "logs['devide_id_hash'] = logs['devide_id_hash'].astype(str)\n",
    "all_events = logs['event_name'].unique()\n",
    "group_246 = logs[logs['exp_id'] == 246].copy()\n",
    "group_247 = logs[logs['exp_id'] == 247].copy()\n",
    "group_248 = logs[logs['exp_id'] == 248].copy()\n",
    "group_control_combined = pd.concat([group_246, group_247])\n",
    "event_counts = logs['event_name'].value_counts()\n",
    "most_popular_event = event_counts.index[0]\n",
    "print(f\"--- El evento más popular es: '{most_popular_event}' ---\")"
   ]
  },
  {
   "cell_type": "code",
   "execution_count": 23,
   "metadata": {},
   "outputs": [],
   "source": [
    "def check_proportions_difference(df1, df2, event_name, alpha):\n",
    "    \"\"\"\n",
    "    Args:\n",
    "        df1 (pd.DataFrame): DataFrame del primer grupo.\n",
    "        df2 (pd.DataFrame): DataFrame del segundo grupo.\n",
    "        event_name (str): Nombre del evento a analizar.\n",
    "        alpha (float): Nivel de significancia.\n",
    "\n",
    "    Returns:\n",
    "        tuple: (p_value, is_significant)\n",
    "    \"\"\"\n",
    "    n_users_1 = df1['devide_id_hash'].nunique()\n",
    "    n_users_2 = df2['devide_id_hash'].nunique()\n",
    "    event_users_1 = df1[df1['event_name'] == event_name]['devide_id_hash'].nunique()\n",
    "    event_users_2 = df2[df2['event_name'] == event_name]['devide_id_hash'].nunique()\n",
    "    stat, p_value = proportions_ztest(\n",
    "        count=[event_users_1, event_users_2],\n",
    "        nobs=[n_users_1, n_users_2],\n",
    "        alternative='two-sided'\n",
    "    )\n",
    "\n",
    "    is_significant = p_value < alpha\n",
    "    return p_value, is_significant"
   ]
  },
  {
   "cell_type": "code",
   "execution_count": 24,
   "metadata": {},
   "outputs": [
    {
     "name": "stdout",
     "output_type": "stream",
     "text": [
      "\n",
      "--- Test A/A: Grupos 246 vs 247 (alpha=0.1) ---\n",
      "Analizando las proporciones de usuarios para todos los eventos...\n",
      "Evento 'mainscreenappear': p-value = 0.5857, ¿Significativo? False\n",
      "Evento 'paymentscreensuccessful': p-value = 0.1090, ¿Significativo? False\n",
      "Evento 'cartscreenappear': p-value = 0.1982, ¿Significativo? False\n",
      "Evento 'offersscreenappear': p-value = 0.3233, ¿Significativo? False\n",
      "Evento 'tutorial': p-value = 0.8757, ¿Significativo? False\n",
      "\n",
      "--- Conclusión del Test A/A ---\n",
      "No se encontraron diferencias estadísticamente significativas entre los grupos de control.\n",
      "Esto confirma que los grupos se dividieron correctamente.\n"
     ]
    }
   ],
   "source": [
    "alpha_aa = 0.1\n",
    "print(f\"\\n--- Test A/A: Grupos 246 vs 247 (alpha={alpha_aa}) ---\")\n",
    "print(\"Analizando las proporciones de usuarios para todos los eventos...\")\n",
    "aa_results = {}\n",
    "for event in all_events:\n",
    "    p_value, is_significant = check_proportions_difference(group_246, group_247, event, alpha_aa)\n",
    "    aa_results[event] = {'p_value': p_value, 'significant': is_significant}\n",
    "    print(f\"Evento '{event}': p-value = {p_value:.4f}, ¿Significativo? {is_significant}\")\n",
    "significant_aa = [event for event, res in aa_results.items() if res['significant']]\n",
    "print(\"\\n--- Conclusión del Test A/A ---\")\n",
    "if len(significant_aa) == 0:\n",
    "    print(\"No se encontraron diferencias estadísticamente significativas entre los grupos de control.\")\n",
    "    print(\"Esto confirma que los grupos se dividieron correctamente.\")\n",
    "else:\n",
    "    print(\"Se encontraron diferencias estadísticamente significativas en los siguientes eventos:\")\n",
    "    for event in significant_aa:\n",
    "        print(f\"- {event}\")\n",
    "    print(\"\\nEsto podría indicar un problema en la división de los grupos o en la aleatorización.\")"
   ]
  },
  {
   "cell_type": "code",
   "execution_count": 25,
   "metadata": {},
   "outputs": [
    {
     "name": "stdout",
     "output_type": "stream",
     "text": [
      "\n",
      "--- Test A/B: Grupo 248 vs. Grupos de Control (alpha=0.1) ---\n",
      "\n",
      "Evento: 'mainscreenappear'\n",
      "  - 248 vs 246: p-value = 0.3977, ¿Sig.? False\n",
      "  - 248 vs 247: p-value = 0.7632, ¿Sig.? False\n",
      "  - 248 vs Combinado: p-value = 0.5067, ¿Sig.? False\n",
      "\n",
      "Evento: 'paymentscreensuccessful'\n",
      "  - 248 vs 246: p-value = 0.2340, ¿Sig.? False\n",
      "  - 248 vs 247: p-value = 0.6764, ¿Sig.? False\n",
      "  - 248 vs Combinado: p-value = 0.6578, ¿Sig.? False\n",
      "\n",
      "Evento: 'cartscreenappear'\n",
      "  - 248 vs 246: p-value = 0.1053, ¿Sig.? False\n",
      "  - 248 vs 247: p-value = 0.7406, ¿Sig.? False\n",
      "  - 248 vs Combinado: p-value = 0.2610, ¿Sig.? False\n",
      "\n",
      "Evento: 'offersscreenappear'\n",
      "  - 248 vs 246: p-value = 0.2532, ¿Sig.? False\n",
      "  - 248 vs 247: p-value = 0.8781, ¿Sig.? False\n",
      "  - 248 vs Combinado: p-value = 0.4555, ¿Sig.? False\n",
      "\n",
      "Evento: 'tutorial'\n",
      "  - 248 vs 246: p-value = 0.8963, ¿Sig.? False\n",
      "  - 248 vs 247: p-value = 0.7733, ¿Sig.? False\n",
      "  - 248 vs Combinado: p-value = 0.8087, ¿Sig.? False\n"
     ]
    }
   ],
   "source": [
    "alpha_ab = 0.1\n",
    "print(f\"\\n--- Test A/B: Grupo 248 vs. Grupos de Control (alpha={alpha_ab}) ---\")\n",
    "ab_results = {}\n",
    "for event in all_events:\n",
    "    ab_results[event] = {}\n",
    "    p_248_vs_246, sig_248_vs_246 = check_proportions_difference(group_248, group_246, event, alpha_ab)\n",
    "    ab_results[event]['248_vs_246'] = {'p_value': p_248_vs_246, 'significant': sig_248_vs_246}\n",
    "    p_248_vs_247, sig_248_vs_247 = check_proportions_difference(group_248, group_247, event, alpha_ab)\n",
    "    ab_results[event]['248_vs_247'] = {'p_value': p_248_vs_247, 'significant': sig_248_vs_247}\n",
    "    p_248_vs_combined, sig_248_vs_combined = check_proportions_difference(group_248, group_control_combined, event, alpha_ab)\n",
    "    ab_results[event]['248_vs_combined'] = {'p_value': p_248_vs_combined, 'significant': sig_248_vs_combined}\n",
    "    print(f\"\\nEvento: '{event}'\")\n",
    "    print(f\"  - 248 vs 246: p-value = {p_248_vs_246:.4f}, ¿Sig.? {sig_248_vs_246}\")\n",
    "    print(f\"  - 248 vs 247: p-value = {p_248_vs_247:.4f}, ¿Sig.? {sig_248_vs_247}\")\n",
    "    print(f\"  - 248 vs Combinado: p-value = {p_248_vs_combined:.4f}, ¿Sig.? {sig_248_vs_combined}\")"
   ]
  },
  {
   "cell_type": "code",
   "execution_count": 27,
   "metadata": {},
   "outputs": [
    {
     "name": "stdout",
     "output_type": "stream",
     "text": [
      "\n",
      "--- Discusión del Nivel de Significancia ---\n",
      "Total de pruebas de hipótesis realizadas: 20\n",
      "\n",
      "Con un nivel de significancia de 0.1, el 10% de los resultados significativos podrían ser falsos positivos (error de Tipo I).\n",
      "Para un total de 20 pruebas, podríamos esperar 2.00 falsos positivos.\n",
      "Para mitigar esto, podemos ajustar el nivel de significancia usando la corrección de Bonferroni.\n",
      "Nivel de significancia ajustado (Bonferroni): 0.0050\n",
      "\n",
      "--- Re-evaluación con el nivel de significancia ajustado ---\n",
      "Evento: 'mainscreenappear', p-value = 0.5067, ¿Significativo con Bonferroni? False\n",
      "Evento: 'paymentscreensuccessful', p-value = 0.6578, ¿Significativo con Bonferroni? False\n",
      "Evento: 'cartscreenappear', p-value = 0.2610, ¿Significativo con Bonferroni? False\n",
      "Evento: 'offersscreenappear', p-value = 0.4555, ¿Significativo con Bonferroni? False\n",
      "Evento: 'tutorial', p-value = 0.8087, ¿Significativo con Bonferroni? False\n",
      "\n",
      "--- Conclusiones Finales del Experimento ---\n",
      "Después de ajustar el nivel de significancia, no se encontraron diferencias significativas entre el grupo experimental y los grupos de control.\n",
      "Conclusión: Las fuentes alteradas no tuvieron un impacto estadísticamente significativo en el comportamiento del usuario.\n"
     ]
    }
   ],
   "source": [
    "print(\"\\n--- Discusión del Nivel de Significancia ---\")\n",
    "total_events = len(all_events)\n",
    "num_aa_tests = total_events\n",
    "num_ab_tests = total_events * 3\n",
    "total_tests = num_aa_tests + num_ab_tests\n",
    "print(f\"Total de pruebas de hipótesis realizadas: {total_tests}\")\n",
    "print(\"\\nCon un nivel de significancia de 0.1, el 10% de los resultados significativos podrían ser falsos positivos (error de Tipo I).\")\n",
    "print(f\"Para un total de {total_tests} pruebas, podríamos esperar {total_tests * 0.1:.2f} falsos positivos.\")\n",
    "print(\"Para mitigar esto, podemos ajustar el nivel de significancia usando la corrección de Bonferroni.\")\n",
    "alpha_bonferroni = 0.1 / total_tests\n",
    "print(f\"Nivel de significancia ajustado (Bonferroni): {alpha_bonferroni:.4f}\")\n",
    "print(\"\\n--- Re-evaluación con el nivel de significancia ajustado ---\")\n",
    "re_eval_results_ab = {}\n",
    "for event in all_events:\n",
    "    re_eval_results_ab[event] = {}\n",
    "    p_value, is_significant = check_proportions_difference(group_248, group_control_combined, event, alpha_bonferroni)\n",
    "    re_eval_results_ab[event]['significant'] = is_significant\n",
    "    print(f\"Evento: '{event}', p-value = {p_value:.4f}, ¿Significativo con Bonferroni? {is_significant}\")\n",
    "print(\"\\n--- Conclusiones Finales del Experimento ---\")\n",
    "significant_events_ab = [event for event, res in re_eval_results_ab.items() if res['significant']]\n",
    "if len(significant_events_ab) == 0:\n",
    "    print(\"Después de ajustar el nivel de significancia, no se encontraron diferencias significativas entre el grupo experimental y los grupos de control.\")\n",
    "    print(\"Conclusión: Las fuentes alteradas no tuvieron un impacto estadísticamente significativo en el comportamiento del usuario.\")\n",
    "else:\n",
    "    print(\"Después de ajustar el nivel de significancia, se encontraron diferencias significativas en los siguientes eventos:\")\n",
    "    for event in significant_events_ab:\n",
    "        print(f\"- {event}\")\n",
    "    print(\"\\nConclusión: La alteración de las fuentes parece haber tenido un impacto significativo en la proporción de usuarios que realizaron estos eventos.\")"
   ]
  },
  {
   "cell_type": "markdown",
   "metadata": {},
   "source": [
    "<div class=\"alert alert-block alert-success\">\n",
    "<b>Comentario del revisor</b> <a class=\"tocSkip\"></a>\n",
    "\n",
    "Tu análisis es un excelente ejemplo de cómo validar la correcta implementación de un experimento mediante pruebas A/A. Tu comparación entre los grupos de control (246 y 247) utilizando la prueba chi-cuadrado para múltiples eventos del embudo de conversión demuestra tu enfoque muy bien organizado. Además, los resultados muestran que no hay diferencias estadísticamente significativas entre los grupos de control para ninguno de los eventos analizados, lo cual es muy importante para garantizar la validez del experimento.\n",
    "</div>"
   ]
  }
 ],
 "metadata": {
  "kernelspec": {
   "display_name": "Python 3 (ipykernel)",
   "language": "python",
   "name": "python3"
  },
  "language_info": {
   "codemirror_mode": {
    "name": "ipython",
    "version": 3
   },
   "file_extension": ".py",
   "mimetype": "text/x-python",
   "name": "python",
   "nbconvert_exporter": "python",
   "pygments_lexer": "ipython3",
   "version": "3.9.23"
  }
 },
 "nbformat": 4,
 "nbformat_minor": 4
}
